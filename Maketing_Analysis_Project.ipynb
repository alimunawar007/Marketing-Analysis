{
 "cells": [
  {
   "cell_type": "code",
   "execution_count": 1,
   "id": "eb53e23d",
   "metadata": {},
   "outputs": [],
   "source": [
    "import pandas as pd\n",
    "from scipy.stats import ttest_ind\n",
    "import scipy.stats as stats\n",
    "import numpy as np"
   ]
  },
  {
   "cell_type": "code",
   "execution_count": 2,
   "id": "8f14d200",
   "metadata": {},
   "outputs": [],
   "source": [
    "df=pd.read_csv('Social_Network_Ads.csv')"
   ]
  },
  {
   "cell_type": "code",
   "execution_count": 3,
   "id": "eeb9154d",
   "metadata": {},
   "outputs": [
    {
     "data": {
      "text/html": [
       "<div>\n",
       "<style scoped>\n",
       "    .dataframe tbody tr th:only-of-type {\n",
       "        vertical-align: middle;\n",
       "    }\n",
       "\n",
       "    .dataframe tbody tr th {\n",
       "        vertical-align: top;\n",
       "    }\n",
       "\n",
       "    .dataframe thead th {\n",
       "        text-align: right;\n",
       "    }\n",
       "</style>\n",
       "<table border=\"1\" class=\"dataframe\">\n",
       "  <thead>\n",
       "    <tr style=\"text-align: right;\">\n",
       "      <th></th>\n",
       "      <th>User ID</th>\n",
       "      <th>Gender</th>\n",
       "      <th>Age</th>\n",
       "      <th>EstimatedSalary</th>\n",
       "      <th>Purchased</th>\n",
       "    </tr>\n",
       "  </thead>\n",
       "  <tbody>\n",
       "    <tr>\n",
       "      <th>0</th>\n",
       "      <td>15624510</td>\n",
       "      <td>Male</td>\n",
       "      <td>19</td>\n",
       "      <td>19000</td>\n",
       "      <td>0</td>\n",
       "    </tr>\n",
       "    <tr>\n",
       "      <th>1</th>\n",
       "      <td>15810944</td>\n",
       "      <td>Male</td>\n",
       "      <td>35</td>\n",
       "      <td>20000</td>\n",
       "      <td>0</td>\n",
       "    </tr>\n",
       "    <tr>\n",
       "      <th>2</th>\n",
       "      <td>15668575</td>\n",
       "      <td>Female</td>\n",
       "      <td>26</td>\n",
       "      <td>43000</td>\n",
       "      <td>0</td>\n",
       "    </tr>\n",
       "    <tr>\n",
       "      <th>3</th>\n",
       "      <td>15603246</td>\n",
       "      <td>Female</td>\n",
       "      <td>27</td>\n",
       "      <td>57000</td>\n",
       "      <td>0</td>\n",
       "    </tr>\n",
       "    <tr>\n",
       "      <th>4</th>\n",
       "      <td>15804002</td>\n",
       "      <td>Male</td>\n",
       "      <td>19</td>\n",
       "      <td>76000</td>\n",
       "      <td>0</td>\n",
       "    </tr>\n",
       "    <tr>\n",
       "      <th>...</th>\n",
       "      <td>...</td>\n",
       "      <td>...</td>\n",
       "      <td>...</td>\n",
       "      <td>...</td>\n",
       "      <td>...</td>\n",
       "    </tr>\n",
       "    <tr>\n",
       "      <th>395</th>\n",
       "      <td>15691863</td>\n",
       "      <td>Female</td>\n",
       "      <td>46</td>\n",
       "      <td>41000</td>\n",
       "      <td>1</td>\n",
       "    </tr>\n",
       "    <tr>\n",
       "      <th>396</th>\n",
       "      <td>15706071</td>\n",
       "      <td>Male</td>\n",
       "      <td>51</td>\n",
       "      <td>23000</td>\n",
       "      <td>1</td>\n",
       "    </tr>\n",
       "    <tr>\n",
       "      <th>397</th>\n",
       "      <td>15654296</td>\n",
       "      <td>Female</td>\n",
       "      <td>50</td>\n",
       "      <td>20000</td>\n",
       "      <td>1</td>\n",
       "    </tr>\n",
       "    <tr>\n",
       "      <th>398</th>\n",
       "      <td>15755018</td>\n",
       "      <td>Male</td>\n",
       "      <td>36</td>\n",
       "      <td>33000</td>\n",
       "      <td>0</td>\n",
       "    </tr>\n",
       "    <tr>\n",
       "      <th>399</th>\n",
       "      <td>15594041</td>\n",
       "      <td>Female</td>\n",
       "      <td>49</td>\n",
       "      <td>36000</td>\n",
       "      <td>1</td>\n",
       "    </tr>\n",
       "  </tbody>\n",
       "</table>\n",
       "<p>400 rows × 5 columns</p>\n",
       "</div>"
      ],
      "text/plain": [
       "      User ID  Gender  Age  EstimatedSalary  Purchased\n",
       "0    15624510    Male   19            19000          0\n",
       "1    15810944    Male   35            20000          0\n",
       "2    15668575  Female   26            43000          0\n",
       "3    15603246  Female   27            57000          0\n",
       "4    15804002    Male   19            76000          0\n",
       "..        ...     ...  ...              ...        ...\n",
       "395  15691863  Female   46            41000          1\n",
       "396  15706071    Male   51            23000          1\n",
       "397  15654296  Female   50            20000          1\n",
       "398  15755018    Male   36            33000          0\n",
       "399  15594041  Female   49            36000          1\n",
       "\n",
       "[400 rows x 5 columns]"
      ]
     },
     "execution_count": 3,
     "metadata": {},
     "output_type": "execute_result"
    }
   ],
   "source": [
    "df"
   ]
  },
  {
   "cell_type": "code",
   "execution_count": 4,
   "id": "0c52d94b",
   "metadata": {},
   "outputs": [
    {
     "data": {
      "text/html": [
       "<div>\n",
       "<style scoped>\n",
       "    .dataframe tbody tr th:only-of-type {\n",
       "        vertical-align: middle;\n",
       "    }\n",
       "\n",
       "    .dataframe tbody tr th {\n",
       "        vertical-align: top;\n",
       "    }\n",
       "\n",
       "    .dataframe thead th {\n",
       "        text-align: right;\n",
       "    }\n",
       "</style>\n",
       "<table border=\"1\" class=\"dataframe\">\n",
       "  <thead>\n",
       "    <tr style=\"text-align: right;\">\n",
       "      <th></th>\n",
       "      <th>User ID</th>\n",
       "      <th>Age</th>\n",
       "      <th>EstimatedSalary</th>\n",
       "      <th>Purchased</th>\n",
       "    </tr>\n",
       "  </thead>\n",
       "  <tbody>\n",
       "    <tr>\n",
       "      <th>count</th>\n",
       "      <td>4.000000e+02</td>\n",
       "      <td>400.000000</td>\n",
       "      <td>400.000000</td>\n",
       "      <td>400.000000</td>\n",
       "    </tr>\n",
       "    <tr>\n",
       "      <th>mean</th>\n",
       "      <td>1.569154e+07</td>\n",
       "      <td>37.655000</td>\n",
       "      <td>69742.500000</td>\n",
       "      <td>0.357500</td>\n",
       "    </tr>\n",
       "    <tr>\n",
       "      <th>std</th>\n",
       "      <td>7.165832e+04</td>\n",
       "      <td>10.482877</td>\n",
       "      <td>34096.960282</td>\n",
       "      <td>0.479864</td>\n",
       "    </tr>\n",
       "    <tr>\n",
       "      <th>min</th>\n",
       "      <td>1.556669e+07</td>\n",
       "      <td>18.000000</td>\n",
       "      <td>15000.000000</td>\n",
       "      <td>0.000000</td>\n",
       "    </tr>\n",
       "    <tr>\n",
       "      <th>25%</th>\n",
       "      <td>1.562676e+07</td>\n",
       "      <td>29.750000</td>\n",
       "      <td>43000.000000</td>\n",
       "      <td>0.000000</td>\n",
       "    </tr>\n",
       "    <tr>\n",
       "      <th>50%</th>\n",
       "      <td>1.569434e+07</td>\n",
       "      <td>37.000000</td>\n",
       "      <td>70000.000000</td>\n",
       "      <td>0.000000</td>\n",
       "    </tr>\n",
       "    <tr>\n",
       "      <th>75%</th>\n",
       "      <td>1.575036e+07</td>\n",
       "      <td>46.000000</td>\n",
       "      <td>88000.000000</td>\n",
       "      <td>1.000000</td>\n",
       "    </tr>\n",
       "    <tr>\n",
       "      <th>max</th>\n",
       "      <td>1.581524e+07</td>\n",
       "      <td>60.000000</td>\n",
       "      <td>150000.000000</td>\n",
       "      <td>1.000000</td>\n",
       "    </tr>\n",
       "  </tbody>\n",
       "</table>\n",
       "</div>"
      ],
      "text/plain": [
       "            User ID         Age  EstimatedSalary   Purchased\n",
       "count  4.000000e+02  400.000000       400.000000  400.000000\n",
       "mean   1.569154e+07   37.655000     69742.500000    0.357500\n",
       "std    7.165832e+04   10.482877     34096.960282    0.479864\n",
       "min    1.556669e+07   18.000000     15000.000000    0.000000\n",
       "25%    1.562676e+07   29.750000     43000.000000    0.000000\n",
       "50%    1.569434e+07   37.000000     70000.000000    0.000000\n",
       "75%    1.575036e+07   46.000000     88000.000000    1.000000\n",
       "max    1.581524e+07   60.000000    150000.000000    1.000000"
      ]
     },
     "execution_count": 4,
     "metadata": {},
     "output_type": "execute_result"
    }
   ],
   "source": [
    "df.describe()"
   ]
  },
  {
   "cell_type": "markdown",
   "id": "ee773c56",
   "metadata": {},
   "source": [
    "# Q2"
   ]
  },
  {
   "cell_type": "markdown",
   "id": "f8436363",
   "metadata": {},
   "source": [
    "# a) POPULATION MEAN OF MALE AND FEMALE AGES"
   ]
  },
  {
   "cell_type": "code",
   "execution_count": 5,
   "id": "924e22f8",
   "metadata": {},
   "outputs": [],
   "source": [
    "m1 = np.array(df[df['Gender']=='Male']['Age'])"
   ]
  },
  {
   "cell_type": "code",
   "execution_count": 6,
   "id": "d280030e",
   "metadata": {},
   "outputs": [],
   "source": [
    "m2 =np.array(df[df['Gender']=='Female']['Age'])"
   ]
  },
  {
   "cell_type": "code",
   "execution_count": 7,
   "id": "b3da0e05",
   "metadata": {},
   "outputs": [
    {
     "name": "stdout",
     "output_type": "stream",
     "text": [
      "MEAN OF MALE IS 36.86734693877551\n"
     ]
    }
   ],
   "source": [
    "print(f\"MEAN OF MALE IS {np.mean(m1)}\")"
   ]
  },
  {
   "cell_type": "code",
   "execution_count": 8,
   "id": "9784daee",
   "metadata": {},
   "outputs": [
    {
     "name": "stdout",
     "output_type": "stream",
     "text": [
      "MEAN OF FEMALE IS 38.411764705882355\n"
     ]
    }
   ],
   "source": [
    "print(f\"MEAN OF FEMALE IS {np.mean(m2)}\")"
   ]
  },
  {
   "cell_type": "markdown",
   "id": "231a1b89",
   "metadata": {},
   "source": [
    "# b) POPULATION OF VARIANCE OF AGES OF MALE AND FEMALE\n"
   ]
  },
  {
   "cell_type": "code",
   "execution_count": 9,
   "id": "d8323ac9",
   "metadata": {},
   "outputs": [
    {
     "name": "stdout",
     "output_type": "stream",
     "text": [
      "VARIANCE OF MALE IS 100.35995418575592\n"
     ]
    }
   ],
   "source": [
    "var_male=np.array(df[df['Gender']=='Male']['Age'])\n",
    "print(f\"VARIANCE OF MALE IS {np.var(var_male)}\")"
   ]
  },
  {
   "cell_type": "code",
   "execution_count": 10,
   "id": "316f8277",
   "metadata": {},
   "outputs": [
    {
     "name": "stdout",
     "output_type": "stream",
     "text": [
      "VARIANCE OF FEMALE IS 117.34025374855825\n"
     ]
    }
   ],
   "source": [
    "var_female=np.array(df[df['Gender']=='Female']['Age'])\n",
    "print(f\"VARIANCE OF FEMALE IS {np.var(var_female)}\")"
   ]
  },
  {
   "cell_type": "markdown",
   "id": "f279f275",
   "metadata": {},
   "source": [
    "# Q3"
   ]
  },
  {
   "cell_type": "markdown",
   "id": "2bc77363",
   "metadata": {},
   "source": [
    "# Proportion of males whose ads were purchased and not purchased.\n",
    "\n"
   ]
  },
  {
   "cell_type": "code",
   "execution_count": 11,
   "id": "17330ff6",
   "metadata": {},
   "outputs": [
    {
     "name": "stderr",
     "output_type": "stream",
     "text": [
      "/var/folders/kf/vbsk0d312vv9vb_sf9v4ghz00000gn/T/ipykernel_24576/574178490.py:1: UserWarning: Boolean Series key will be reindexed to match DataFrame index.\n",
      "  P1_Male=len(df[df['Gender']=='Male'][df['Purchased']==1])/len(df[df['Gender']=='Male'])\n"
     ]
    }
   ],
   "source": [
    "P1_Male=len(df[df['Gender']=='Male'][df['Purchased']==1])/len(df[df['Gender']=='Male'])"
   ]
  },
  {
   "cell_type": "markdown",
   "id": "0db7176b",
   "metadata": {},
   "source": [
    "## Male Purchased Ads"
   ]
  },
  {
   "cell_type": "code",
   "execution_count": 12,
   "id": "915091a5",
   "metadata": {},
   "outputs": [
    {
     "data": {
      "text/plain": [
       "0.336734693877551"
      ]
     },
     "execution_count": 12,
     "metadata": {},
     "output_type": "execute_result"
    }
   ],
   "source": [
    "P1_Male"
   ]
  },
  {
   "cell_type": "markdown",
   "id": "746a0d17",
   "metadata": {},
   "source": [
    "## Male Not Purchased Ads"
   ]
  },
  {
   "cell_type": "code",
   "execution_count": 13,
   "id": "c3c9b680",
   "metadata": {},
   "outputs": [],
   "source": [
    "Q1_Male={1-P1_Male}"
   ]
  },
  {
   "cell_type": "code",
   "execution_count": 14,
   "id": "925661d4",
   "metadata": {},
   "outputs": [
    {
     "data": {
      "text/plain": [
       "{0.6632653061224489}"
      ]
     },
     "execution_count": 14,
     "metadata": {},
     "output_type": "execute_result"
    }
   ],
   "source": [
    "Q1_Male"
   ]
  },
  {
   "cell_type": "markdown",
   "id": "1a6f9fba",
   "metadata": {},
   "source": [
    "# Q4"
   ]
  },
  {
   "cell_type": "markdown",
   "id": "df57af26",
   "metadata": {},
   "source": [
    "# Proportion of females whose ads were purchased and not purchased"
   ]
  },
  {
   "cell_type": "code",
   "execution_count": 15,
   "id": "9f245095",
   "metadata": {},
   "outputs": [
    {
     "name": "stderr",
     "output_type": "stream",
     "text": [
      "/var/folders/kf/vbsk0d312vv9vb_sf9v4ghz00000gn/T/ipykernel_24576/3831493596.py:1: UserWarning: Boolean Series key will be reindexed to match DataFrame index.\n",
      "  P1_Female=len(df[df['Gender']=='Female'][df['Purchased']==1])/len(df[df['Gender']=='Female'])\n"
     ]
    }
   ],
   "source": [
    "P1_Female=len(df[df['Gender']=='Female'][df['Purchased']==1])/len(df[df['Gender']=='Female'])"
   ]
  },
  {
   "cell_type": "markdown",
   "id": "27f6c23c",
   "metadata": {},
   "source": [
    "## Female Purchased Ads"
   ]
  },
  {
   "cell_type": "code",
   "execution_count": 16,
   "id": "f31cff80",
   "metadata": {},
   "outputs": [
    {
     "data": {
      "text/plain": [
       "0.37745098039215685"
      ]
     },
     "execution_count": 16,
     "metadata": {},
     "output_type": "execute_result"
    }
   ],
   "source": [
    "P1_Female"
   ]
  },
  {
   "cell_type": "markdown",
   "id": "42a4d6c6",
   "metadata": {},
   "source": [
    "## Female Not Purchased Ads"
   ]
  },
  {
   "cell_type": "code",
   "execution_count": 17,
   "id": "a2ccafd7",
   "metadata": {},
   "outputs": [],
   "source": [
    "Q1_Female={1-P1_Female}"
   ]
  },
  {
   "cell_type": "code",
   "execution_count": 18,
   "id": "bcb60372",
   "metadata": {},
   "outputs": [
    {
     "data": {
      "text/plain": [
       "{0.6225490196078431}"
      ]
     },
     "execution_count": 18,
     "metadata": {},
     "output_type": "execute_result"
    }
   ],
   "source": [
    "Q1_Female"
   ]
  },
  {
   "cell_type": "markdown",
   "id": "0ebb2d4b",
   "metadata": {},
   "source": [
    "# Q5"
   ]
  },
  {
   "cell_type": "markdown",
   "id": "589723af",
   "metadata": {},
   "source": [
    "# Take a random sample"
   ]
  },
  {
   "cell_type": "code",
   "execution_count": 19,
   "id": "3b3ee86b",
   "metadata": {},
   "outputs": [],
   "source": [
    "Success=np.array([196,204])\n",
    "Total_Sample_Size=np.array([400,400])"
   ]
  },
  {
   "cell_type": "code",
   "execution_count": 20,
   "id": "1fb5fffb",
   "metadata": {},
   "outputs": [],
   "source": [
    "from statsmodels.stats.proportion import proportions_ztest\n",
    "z_stat, p_value = proportions_ztest(Success,Total_Sample_Size,alternative='two-sided')"
   ]
  },
  {
   "cell_type": "code",
   "execution_count": 21,
   "id": "aaecf9a2",
   "metadata": {},
   "outputs": [
    {
     "name": "stdout",
     "output_type": "stream",
     "text": [
      "p_value is 0.5716076449533312\n"
     ]
    }
   ],
   "source": [
    "z_stat,p_value\n",
    "if p_value>0.05:\n",
    "    print(f'p_value is {p_value}')"
   ]
  },
  {
   "cell_type": "markdown",
   "id": "5cc934a4",
   "metadata": {},
   "source": [
    "As we can see that the p_value is greater than 0.05 so we will take the size of the random sample as equal."
   ]
  },
  {
   "cell_type": "code",
   "execution_count": 22,
   "id": "777f3e76",
   "metadata": {},
   "outputs": [],
   "source": [
    "Male = df[df['Gender']=='Male']"
   ]
  },
  {
   "cell_type": "code",
   "execution_count": 23,
   "id": "43592ecd",
   "metadata": {},
   "outputs": [],
   "source": [
    "Male_Random_Sample = Male.sample(n=40,random_state=1)"
   ]
  },
  {
   "cell_type": "code",
   "execution_count": 24,
   "id": "78b6aaff",
   "metadata": {},
   "outputs": [
    {
     "data": {
      "text/plain": [
       "40"
      ]
     },
     "execution_count": 24,
     "metadata": {},
     "output_type": "execute_result"
    }
   ],
   "source": [
    "len(Male_Random_Sample)"
   ]
  },
  {
   "cell_type": "code",
   "execution_count": 25,
   "id": "feb83532",
   "metadata": {},
   "outputs": [],
   "source": [
    "Female = df[df['Gender']=='Female']"
   ]
  },
  {
   "cell_type": "code",
   "execution_count": 26,
   "id": "c2539da2",
   "metadata": {},
   "outputs": [],
   "source": [
    "Female_Random_Sample = Female.sample(n=40,random_state=1)"
   ]
  },
  {
   "cell_type": "code",
   "execution_count": 27,
   "id": "035d40c8",
   "metadata": {},
   "outputs": [
    {
     "data": {
      "text/plain": [
       "40"
      ]
     },
     "execution_count": 27,
     "metadata": {},
     "output_type": "execute_result"
    }
   ],
   "source": [
    "len(Female_Random_Sample)"
   ]
  },
  {
   "cell_type": "markdown",
   "id": "c5f5fbeb",
   "metadata": {},
   "source": [
    "# Q6"
   ]
  },
  {
   "cell_type": "markdown",
   "id": "dd839906",
   "metadata": {},
   "source": [
    "# HYPOTHESIS TESTING"
   ]
  },
  {
   "cell_type": "markdown",
   "id": "4e1718dd",
   "metadata": {},
   "source": [
    "## a) Proportion of Male ads Purchased = Proportion of Female ads Purchased"
   ]
  },
  {
   "cell_type": "markdown",
   "id": "93f56421",
   "metadata": {},
   "source": [
    "Ho: Proportion of Male and Female are equal p1=p2\n",
    "\n",
    "HA: Proportion of Male and Female are not equal p1!=p2"
   ]
  },
  {
   "cell_type": "code",
   "execution_count": 28,
   "id": "229ba2a0",
   "metadata": {},
   "outputs": [
    {
     "data": {
      "text/plain": [
       "14"
      ]
     },
     "execution_count": 28,
     "metadata": {},
     "output_type": "execute_result"
    }
   ],
   "source": [
    "m_purchased = Male_Random_Sample[Male_Random_Sample['Purchased']==1]\n",
    "len(m_purchased)"
   ]
  },
  {
   "cell_type": "code",
   "execution_count": 29,
   "id": "ca9d00cc",
   "metadata": {},
   "outputs": [],
   "source": [
    "f_purchased = Female_Random_Sample[Female_Random_Sample['Purchased']==1]"
   ]
  },
  {
   "cell_type": "code",
   "execution_count": 30,
   "id": "201496d5",
   "metadata": {},
   "outputs": [
    {
     "data": {
      "text/plain": [
       "16"
      ]
     },
     "execution_count": 30,
     "metadata": {},
     "output_type": "execute_result"
    }
   ],
   "source": [
    "len(f_purchased)"
   ]
  },
  {
   "cell_type": "code",
   "execution_count": 31,
   "id": "859ed1f7",
   "metadata": {},
   "outputs": [],
   "source": [
    "Success = np.array([14,16])\n",
    "Sample_Size = np.array([40,40])"
   ]
  },
  {
   "cell_type": "code",
   "execution_count": 32,
   "id": "3dbb7af0",
   "metadata": {},
   "outputs": [],
   "source": [
    "z_stat, p_value = proportions_ztest(Success,Sample_Size,alternative='two-sided')"
   ]
  },
  {
   "cell_type": "code",
   "execution_count": 33,
   "id": "efdd8a56",
   "metadata": {},
   "outputs": [
    {
     "name": "stdout",
     "output_type": "stream",
     "text": [
      "0.6441672226837099 Accept Null Hypothesis\n"
     ]
    }
   ],
   "source": [
    "z_stat,p_value\n",
    "if p_value>0.05:\n",
    "    print(f'{p_value} Accept Null Hypothesis')\n",
    "else:\n",
    "        print('Reject Null Hypothesis')"
   ]
  },
  {
   "cell_type": "markdown",
   "id": "f2bdaeb8",
   "metadata": {},
   "source": [
    "## b) Proportion of Male ads not Purchased = Proportion of Female ads not Purchased"
   ]
  },
  {
   "cell_type": "markdown",
   "id": "58298f44",
   "metadata": {},
   "source": [
    "HO = P1=P2\n",
    "\n",
    "HA = P1!=P2"
   ]
  },
  {
   "cell_type": "code",
   "execution_count": 34,
   "id": "c1a58a76",
   "metadata": {},
   "outputs": [],
   "source": [
    "m_unpurchased=Male_Random_Sample[Male_Random_Sample['Purchased']==0]"
   ]
  },
  {
   "cell_type": "code",
   "execution_count": 35,
   "id": "02e206df",
   "metadata": {},
   "outputs": [],
   "source": [
    "f_unpurchased=Female_Random_Sample[Female_Random_Sample['Purchased']==0]"
   ]
  },
  {
   "cell_type": "code",
   "execution_count": 36,
   "id": "b3cb7b72",
   "metadata": {},
   "outputs": [
    {
     "data": {
      "text/plain": [
       "26"
      ]
     },
     "execution_count": 36,
     "metadata": {},
     "output_type": "execute_result"
    }
   ],
   "source": [
    "\n",
    "len(m_unpurchased)"
   ]
  },
  {
   "cell_type": "code",
   "execution_count": 37,
   "id": "303df7cf",
   "metadata": {},
   "outputs": [
    {
     "data": {
      "text/plain": [
       "24"
      ]
     },
     "execution_count": 37,
     "metadata": {},
     "output_type": "execute_result"
    }
   ],
   "source": [
    "len(f_unpurchased)"
   ]
  },
  {
   "cell_type": "code",
   "execution_count": 38,
   "id": "3c72f38f",
   "metadata": {},
   "outputs": [],
   "source": [
    "unsucess=np.array([26,24])\n",
    "Sample_Size=np.array([40,40])"
   ]
  },
  {
   "cell_type": "code",
   "execution_count": 39,
   "id": "8e7f3d0d",
   "metadata": {},
   "outputs": [],
   "source": [
    "z_stat, p_value = proportions_ztest(unsucess,Sample_Size,alternative='two-sided')"
   ]
  },
  {
   "cell_type": "code",
   "execution_count": 40,
   "id": "647c5124",
   "metadata": {},
   "outputs": [
    {
     "name": "stdout",
     "output_type": "stream",
     "text": [
      "(0.46188021535170104, 0.6441672226837099) Accept Null Hypothesis\n"
     ]
    }
   ],
   "source": [
    "z_stat,p_value\n",
    "if p_value>0.05:\n",
    "    print(f'{z_stat,p_value} Accept Null Hypothesis')\n",
    "else:\n",
    "        print('Reject Null Hypothesis')"
   ]
  },
  {
   "cell_type": "markdown",
   "id": "f3f6c2db",
   "metadata": {},
   "source": [
    "## c) Equal Variances of  Ages of Male and Female"
   ]
  },
  {
   "cell_type": "markdown",
   "id": "c9ca7e30",
   "metadata": {},
   "source": [
    "HO: σ1=σ2\n",
    "\n",
    "HA: σ1!=σ2"
   ]
  },
  {
   "cell_type": "code",
   "execution_count": 41,
   "id": "247095da",
   "metadata": {},
   "outputs": [],
   "source": [
    "x1 = Male_Random_Sample['Age']\n",
    "x2 = Female_Random_Sample['Age']"
   ]
  },
  {
   "cell_type": "code",
   "execution_count": 42,
   "id": "8d0abd27",
   "metadata": {},
   "outputs": [],
   "source": [
    "X1=np.array(x1)\n",
    "X2=np.array(x2)"
   ]
  },
  {
   "cell_type": "code",
   "execution_count": 43,
   "id": "a91b4263",
   "metadata": {},
   "outputs": [
    {
     "name": "stdout",
     "output_type": "stream",
     "text": [
      "The value of p is 0.5208720264310946, So we will accept the Null Hypothesis\n"
     ]
    }
   ],
   "source": [
    "def f_test(x, y):\n",
    "    X1=np.array(x1)\n",
    "    X2=np.array(x2)\n",
    "    f = np.var(X1, ddof=1)/np.var(X2, ddof=1)\n",
    "    dfn = X1.size-1 \n",
    "    dfd = X2.size-1\n",
    "    p = 1-stats.f.cdf(f, dfn, dfd)\n",
    "    if p>0.05:\n",
    "        print(f'The value of p is {p}, So we will accept the Null Hypothesis')\n",
    "    else:\n",
    "        print(f'The value of p is {p}, So we will reject the Null Hypothesis')\n",
    "\n",
    "\n",
    "f_test(X1,X2)"
   ]
  },
  {
   "cell_type": "markdown",
   "id": "203f7cce",
   "metadata": {},
   "source": [
    "## d) Based on the results of ‘c’, the equality of means of ages of males and females."
   ]
  },
  {
   "cell_type": "markdown",
   "id": "de38c38e",
   "metadata": {},
   "source": [
    "According to the result of c, we denote that the variance of both random samples are same so the mean of ages of males and females will also be same."
   ]
  },
  {
   "cell_type": "markdown",
   "id": "aa462805",
   "metadata": {},
   "source": [
    "# Q7"
   ]
  },
  {
   "cell_type": "markdown",
   "id": "a3df0f39",
   "metadata": {},
   "source": [
    "# Confidence Intervals "
   ]
  },
  {
   "cell_type": "markdown",
   "id": "7e97017c",
   "metadata": {},
   "source": [
    "The confidence interval was taken 95%\n",
    "\n",
    "a: Both male and female will equally purchase ads.\n",
    "\n",
    "b: Proportion of male and female are equal in terms of not purchasing ads\n",
    "\n",
    "c: Variances of male and female ages are equal\n",
    "\n",
    "d: Means of male and female ages are equal"
   ]
  },
  {
   "cell_type": "markdown",
   "id": "faf8f4bd",
   "metadata": {},
   "source": [
    "# Q8"
   ]
  },
  {
   "cell_type": "markdown",
   "id": "8629369b",
   "metadata": {},
   "source": [
    "# SUMMARY"
   ]
  },
  {
   "cell_type": "markdown",
   "id": "bd85a9a6",
   "metadata": {},
   "source": [
    "**While observing the above analysis, we have got to know that male and female have same buying patterns.The rate of ads purchased and not purchased are almost same for both the genders. We will accept the Null Hypothesis H0 and reject the Alternate Hypothesis HA.**"
   ]
  },
  {
   "cell_type": "markdown",
   "id": "432cb41c",
   "metadata": {},
   "source": [
    "# Q9"
   ]
  },
  {
   "cell_type": "markdown",
   "id": "37de1f5c",
   "metadata": {},
   "source": [
    "# Title: Marketing Analysis on Social Network"
   ]
  }
 ],
 "metadata": {
  "kernelspec": {
   "display_name": "Python 3 (ipykernel)",
   "language": "python",
   "name": "python3"
  },
  "language_info": {
   "codemirror_mode": {
    "name": "ipython",
    "version": 3
   },
   "file_extension": ".py",
   "mimetype": "text/x-python",
   "name": "python",
   "nbconvert_exporter": "python",
   "pygments_lexer": "ipython3",
   "version": "3.9.13"
  }
 },
 "nbformat": 4,
 "nbformat_minor": 5
}
